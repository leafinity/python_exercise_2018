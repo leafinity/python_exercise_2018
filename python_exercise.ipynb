{
 "cells": [
  {
   "cell_type": "markdown",
   "metadata": {},
   "source": [
    "## Exercise 1\n",
    "\n",
    "Given n, please return the nth Fibonacci number.\n",
    "\n",
    "    f(0) = 0\n",
    "    f(1) = 1\n",
    "    f(n) = f(n-1) + f(n-2)"
   ]
  },
  {
   "cell_type": "code",
   "execution_count": null,
   "metadata": {},
   "outputs": [],
   "source": [
    "def fib(n):\n",
    "    ### your code start\n",
    "    a, b, = 0, 1\n",
    "    while n > 0:\n",
    "        a, b = b, a + b\n",
    "        n -= 1\n",
    "    return a\n",
    "    ### your code end\n",
    "    \n",
    "''' Python swap 不需要 tmp\n",
    "    他的順序是:\n",
    "    1. 讀出 b\n",
    "    2. 讀出 a 和 b, 並把他們相加\n",
    "    3. 把讀出來的 b 存進 a\n",
    "    4. 把讀出來算完的 a+b 存進 b\n",
    "    \n",
    "    另外這裡的 a, b 分別是第 n 個和第 n+1 個\n",
    "    n = 0 的時候迴圈不會執行 f_0 = 0 = a\n",
    "'''"
   ]
  },
  {
   "cell_type": "code",
   "execution_count": null,
   "metadata": {},
   "outputs": [],
   "source": [
    "# test cell\n",
    "fib(5)"
   ]
  },
  {
   "cell_type": "code",
   "execution_count": null,
   "metadata": {},
   "outputs": [],
   "source": [
    "# validation cell, do not modifiy this cell\n",
    "assert fib(5) == 5\n",
    "assert fib(10) == 55"
   ]
  },
  {
   "cell_type": "markdown",
   "metadata": {},
   "source": [
    "## Exercise 2\n",
    "\n",
    "Given a number array, please return a new array whose elements are twice of origin's (Try to use `forloop in []`)\n",
    "\n",
    "    input = [1, 4, 7, 3, 13]\n",
    "    output = [2, 8, 14, 6, 26]"
   ]
  },
  {
   "cell_type": "code",
   "execution_count": null,
   "metadata": {},
   "outputs": [],
   "source": [
    "def dup(input_list):\n",
    "    ### your code start\n",
    "    return [i * 2 for i in input_list]\n",
    "    ### your code end\n",
    "    \n",
    "''' 這是個常用的寫法 這樣寫行數比較短 也可以直接將 List 傳進 function (和 lambda 很像)\n",
    "    上面的 function 其實可以寫成\n",
    "    \n",
    "    def dup(input_list):\n",
    "        a = []\n",
    "        for(i in input_list):\n",
    "            a.append(i * 2)\n",
    "            \n",
    "    假設你要排序第三題每個人的年齡 但不在乎是誰的年齡\n",
    "    原本你可能這樣寫\n",
    "    \n",
    "    ages = []\n",
    "    for x in students:\n",
    "        ages.appends(x['age'])\n",
    "    ages.sort()\n",
    "    \n",
    "    用 [] 的寫法則可以一行寫完\n",
    "    ages = sorted([x['age'] for x in students])\n",
    "'''"
   ]
  },
  {
   "cell_type": "code",
   "execution_count": null,
   "metadata": {},
   "outputs": [],
   "source": [
    "# test cell"
   ]
  },
  {
   "cell_type": "code",
   "execution_count": null,
   "metadata": {},
   "outputs": [],
   "source": [
    "# validation cell, do not modifiy this cell\n",
    "assert dup([]) == []\n",
    "assert dup([1, 2, 3]) == [2, 4, 6]"
   ]
  },
  {
   "cell_type": "markdown",
   "metadata": {},
   "source": [
    "## Exercise 3\n",
    "\n",
    "Given an array of students' info (Try to use `lambda`)\n",
    "\n",
    "You cannot return array.\n",
    "\n",
    "    input = [{\n",
    "        'name': Abby,\n",
    "        'age': 16,\n",
    "        'number': 1,\n",
    "       }, {\n",
    "        'name': Kinna,\n",
    "        'age': 17,\n",
    "        'number': 2,\n",
    "        },{\n",
    "        'name': Yuki,\n",
    "        'age': 15,\n",
    "        'number': 3,\n",
    "    }]\n",
    "    output = [{\n",
    "        'name': Yuki,\n",
    "        'age': 15,\n",
    "        'number': 3,\n",
    "       }, {\n",
    "        'name': Abby,\n",
    "        'age': 16,\n",
    "        'number': 1,\n",
    "        },{\n",
    "        'name': Kinna,\n",
    "        'age': 17,\n",
    "        'number': 2,\n",
    "    }]\n"
   ]
  },
  {
   "cell_type": "code",
   "execution_count": null,
   "metadata": {},
   "outputs": [],
   "source": [
    "def sort_student(students):\n",
    "    ### your code start\n",
    "    students.sort(key=lambda x: x['age'])\n",
    "    ### your code end\n",
    "    \n",
    "''' 1. list.sort 會直接對 list 做更動，而 sorted 會回傳新的排序好的的 list\n",
    "    下面兩段回有一樣的結果\n",
    "    \n",
    "    mylist.sort()\n",
    "    \n",
    "    和\n",
    "    \n",
    "    mylist = sorted(mylist)\n",
    "    \n",
    "    2. lambda x: x['age'] 其實就等於\n",
    "    \n",
    "    def myfunc(x):\n",
    "        return x['age']\n",
    "'''"
   ]
  },
  {
   "cell_type": "code",
   "execution_count": null,
   "metadata": {},
   "outputs": [],
   "source": [
    "# validation cell, do not modifiy this cell\n",
    "students = [{'name': 'Abby', 'age': 16, 'number': 1,}, {\n",
    "             'name': 'Kinna','age': 17, 'number': 2,}, {\n",
    "             'name': 'Yuki', 'age': 15, 'number': 3,}]\n",
    "\n",
    "students_result = [{'name': 'Yuki', 'age': 15, 'number': 3,}, {\n",
    "                    'name': 'Abby', 'age': 16, 'number': 1,},{\n",
    "                    'name': 'Kinna','age': 17, 'number': 2,}]\n",
    "\n",
    "sort_student(students)\n",
    "assert students == students_result"
   ]
  },
  {
   "cell_type": "markdown",
   "metadata": {},
   "source": [
    "## Exercise 4\n",
    "\n",
    "Combine two array as an array of tuple (Try to use `zip`)\n",
    "\n",
    "    input = ['a', 'b', 'c'], [1, 2, 3]\n",
    "    output = [('a', 1), ('b', 2), ('c', 3)\n",
    "\n",
    "### zip 在自己 create 一個 dataframe 的時候會常用到 可以跑一下下面的 code 看一下 `zip(mylist)` 和 `zip(*mylist)` 的差別"
   ]
  },
  {
   "cell_type": "code",
   "execution_count": null,
   "metadata": {},
   "outputs": [],
   "source": [
    "def combine(a, b):\n",
    "    ### your code start\n",
    "    return list(zip(a, b))\n",
    "    ### your code end"
   ]
  },
  {
   "cell_type": "code",
   "execution_count": null,
   "metadata": {},
   "outputs": [],
   "source": [
    "# validation cell, do not modifiy this cell\n",
    "assert combine(['a', 'b', 'c'], [1, 2, 3]) == [('a', 1), ('b', 2), ('c', 3)]"
   ]
  },
  {
   "cell_type": "code",
   "execution_count": null,
   "metadata": {},
   "outputs": [],
   "source": [
    "# TO unzip list to two individual lists\n",
    "l = combine(['a', 'b', 'c'], [1, 2, 3])\n",
    "\n",
    "def upzip(l):\n",
    "    return list(zip(*l))\n",
    "\n",
    "print(l)\n",
    "print(upzip(l))"
   ]
  },
  {
   "cell_type": "markdown",
   "metadata": {},
   "source": [
    "## Excercise 5\n",
    "\n",
    "implement `range` function. Return element by elment instead of `List` (Use `generator`)\n",
    "\n",
    "    def range(start, end):\n",
    "        ...\n",
    "        \n",
    "    for i in range(1, 5):\n",
    "        print(i,)\n",
    "    \n",
    "    >>> 1,2,3,4,5\n",
    "    "
   ]
  },
  {
   "cell_type": "code",
   "execution_count": null,
   "metadata": {},
   "outputs": [],
   "source": [
    "def my_range(start, end):\n",
    "    ### your code start\n",
    "    i = start\n",
    "    while i < end:\n",
    "        yield i\n",
    "        i += 1\n",
    "    return # 跟不寫是一樣的\n",
    "    ### your code end\n",
    "    \n",
    "''' generator 的執行可以想成這樣\n",
    "    for i in mygenerator 是 call mygenerator.__next__() 到沒 yield 為止\n",
    "    每一個 __next__() 會執行到 yield 把值傳回來並暫停\n",
    "    \n",
    "    for i in my_range(2, 5): 可以想成這樣：\n",
    "    \n",
    "    1.  call my_range.next()\n",
    "        i = 2\n",
    "        return i，暫停\n",
    "    \n",
    "    2.  call my_range.next()\n",
    "        i += 1 # i = 3\n",
    "        return i，暫停\n",
    "    \n",
    "    3.  call my_range.next()\n",
    "        i += 1 # i = 4\n",
    "        return i，暫停\n",
    "    \n",
    "    4.  call my_range.next()\n",
    "        i += 1 # i = 5\n",
    "        跳脫 while 迴圈\n",
    "        到真正的 return\n",
    "        \n",
    "    5.  迴圈結束\n",
    "'''"
   ]
  },
  {
   "cell_type": "code",
   "execution_count": null,
   "metadata": {},
   "outputs": [],
   "source": [
    "# validation cell, do not modifiy this cell\n",
    "assert my_range(10, 20).__next__() == 10\n",
    "assert [i for i in my_range(2, 5)] == [2, 3, 4]"
   ]
  },
  {
   "cell_type": "markdown",
   "metadata": {},
   "source": [
    "## Exercise 6\n",
    "\n",
    "Add each element in two lists by `map`.\n",
    "\n",
    "    input_1 = [1, 2, 3]\n",
    "    input_2 = [1, 2, 4]\n",
    "    \n",
    "    merge(input_1, input_2) = [2, 4, 7]\n",
    "    \n",
    "### map 是一個常用的對 list 做調整的 function\n",
    "\n",
    "    new_list = list(map(lambda x: x+1 a))\n",
    "    \n",
    "等於下面\n",
    "    \n",
    "    new_list = list(a) # 複製一份 a，為了有相同的長度\n",
    "    for i in range(len(a)):\n",
    "        new_list[i] = a[i] + 1\n",
    "\n",
    "---\n",
    "\n",
    "    new_list = map(lambda x, y: x+y a, b)\n",
    "\n",
    "等於下面\n",
    "       \n",
    "    new_list = list(a) # 複製一份 a，為了有相同的長度\n",
    "    for i in range(len(a)):\n",
    "        new_list[i] = a[i] + b[i]\n",
    "    \n"
   ]
  },
  {
   "cell_type": "code",
   "execution_count": null,
   "metadata": {},
   "outputs": [],
   "source": [
    "def merge(a, b):\n",
    "    ### your code start\n",
    "    return list(map(lambda x, y: x+y, a, b))\n",
    "    ### your code end"
   ]
  },
  {
   "cell_type": "code",
   "execution_count": null,
   "metadata": {},
   "outputs": [],
   "source": [
    "# validation cell, do not modifiy this cell\n",
    "assert merge([1, 2, 3], [1, 2, 4]) == [2, 4, 7]\n",
    "assert merge([], []) == []"
   ]
  },
  {
   "cell_type": "markdown",
   "metadata": {},
   "source": [
    "## Exercise 7\n",
    "\n",
    "Add index to each elements in list. (Use `enumerate`)\n",
    "\n",
    "    input = [1, 2, 6, 4]\n",
    "    output = [1, 3, 8, 7]\n",
    "    \n",
    "That is,\n",
    "\n",
    "    output[0] = input[0] + 0\n",
    "    output[1] = input[1] + 1\n",
    "    ...\n",
    "    \n",
    "### `enumerate` 可以想成這樣的func\n",
    "\n",
    "    def enumerate(mylist):\n",
    "        for i in range(len(mylist)):\n",
    "            yield i, mylist[i]"
   ]
  },
  {
   "cell_type": "code",
   "execution_count": null,
   "metadata": {},
   "outputs": [],
   "source": [
    "def add_index(my_list):\n",
    "    ### your code start\n",
    "    return [i + e for i, e in enumerate(my_list)]\n",
    "    ### your code end"
   ]
  },
  {
   "cell_type": "code",
   "execution_count": null,
   "metadata": {},
   "outputs": [],
   "source": [
    "# validation cell, do not modifiy this cell\n",
    "assert add_index([1, 2, 3]) == [1, 3, 5]\n",
    "assert add_index([]) == []"
   ]
  }
 ],
 "metadata": {
  "kernelspec": {
   "display_name": "Python 3",
   "language": "python",
   "name": "python3"
  },
  "language_info": {
   "codemirror_mode": {
    "name": "ipython",
    "version": 3
   },
   "file_extension": ".py",
   "mimetype": "text/x-python",
   "name": "python",
   "nbconvert_exporter": "python",
   "pygments_lexer": "ipython3",
   "version": "3.7.0"
  }
 },
 "nbformat": 4,
 "nbformat_minor": 2
}
