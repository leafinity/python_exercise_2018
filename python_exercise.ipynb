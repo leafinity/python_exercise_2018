{
 "cells": [
  {
   "cell_type": "markdown",
   "metadata": {},
   "source": [
    "## Exercise 1\n",
    "\n",
    "Given n, please return the nth Fibonacci number.\n",
    "\n",
    "    f(0) = 0\n",
    "    f(1) = 1\n",
    "    f(n) = f(n-1) + f(n-2)"
   ]
  },
  {
   "cell_type": "code",
   "execution_count": null,
   "metadata": {},
   "outputs": [],
   "source": [
    "def fib(n):\n",
    "    ### your code start\n",
    "    pass\n",
    "    ### your code end\n",
    "'''"
   ]
  },
  {
   "cell_type": "code",
   "execution_count": null,
   "metadata": {},
   "outputs": [],
   "source": [
    "# test cell, you can write any code here to test your function\n",
    "fib(5)"
   ]
  },
  {
   "cell_type": "code",
   "execution_count": null,
   "metadata": {},
   "outputs": [],
   "source": [
    "# validation cell, do not modifiy this cell\n",
    "assert fib(5) == 5\n",
    "assert fib(10) == 55"
   ]
  },
  {
   "cell_type": "markdown",
   "metadata": {},
   "source": [
    "## Exercise 2\n",
    "\n",
    "Given a number array, please return a new array whose elements are twice of origin's (Try to use `forloop in []`)\n",
    "\n",
    "    input = [1, 4, 7, 3, 13]\n",
    "    output = [2, 8, 14, 6, 26]"
   ]
  },
  {
   "cell_type": "code",
   "execution_count": null,
   "metadata": {},
   "outputs": [],
   "source": [
    "def dup(mylist):\n",
    "    ### your code start\n",
    "    return []\n",
    "    ### your code end"
   ]
  },
  {
   "cell_type": "code",
   "execution_count": null,
   "metadata": {},
   "outputs": [],
   "source": [
    "# test cell, you can write any code here to test your function"
   ]
  },
  {
   "cell_type": "code",
   "execution_count": null,
   "metadata": {},
   "outputs": [],
   "source": [
    "# validation cell, do not modifiy this cell\n",
    "assert dup([]) == []\n",
    "assert dup([1, 2, 3]) == [2, 4, 6]"
   ]
  },
  {
   "cell_type": "markdown",
   "metadata": {},
   "source": [
    "## Exercise 3\n",
    "\n",
    "Given an array of students' info (Try to use `lambda`). Do not return new list.\n",
    "\n",
    "    input = [{\n",
    "        'name': Abby,\n",
    "        'age': 16,\n",
    "        'number': 1,\n",
    "       }, {\n",
    "        'name': Kinna,\n",
    "        'age': 17,\n",
    "        'number': 2,\n",
    "        },{\n",
    "        'name': Yuki,\n",
    "        'age': 15,\n",
    "        'number': 3,\n",
    "    }]\n",
    "    output = [{\n",
    "        'name': Yuki,\n",
    "        'age': 15,\n",
    "        'number': 3,\n",
    "       }, {\n",
    "        'name': Abby,\n",
    "        'age': 16,\n",
    "        'number': 1,\n",
    "        },{\n",
    "        'name': Kinna,\n",
    "        'age': 17,\n",
    "        'number': 2,\n",
    "    }]\n"
   ]
  },
  {
   "cell_type": "code",
   "execution_count": null,
   "metadata": {},
   "outputs": [],
   "source": [
    "def sort_student(students):\n",
    "    ### your code start\n",
    "    pass\n",
    "    ### your code end"
   ]
  },
  {
   "cell_type": "code",
   "execution_count": null,
   "metadata": {},
   "outputs": [],
   "source": [
    "# test cell, you can write any code here to test your function"
   ]
  },
  {
   "cell_type": "code",
   "execution_count": null,
   "metadata": {},
   "outputs": [],
   "source": [
    "# validation cell, do not modifiy this cell\n",
    "students = [{'name': 'Abby', 'age': 16, 'number': 1,}, {\n",
    "             'name': 'Kinna','age': 17, 'number': 2,}, {\n",
    "             'name': 'Yuki', 'age': 15, 'number': 3,}]\n",
    "\n",
    "students_result = [{'name': 'Yuki', 'age': 15, 'number': 3,}, {\n",
    "                    'name': 'Abby', 'age': 16, 'number': 1,},{\n",
    "                    'name': 'Kinna','age': 17, 'number': 2,}]\n",
    "\n",
    "sort_student(students)\n",
    "assert students == students_result"
   ]
  },
  {
   "cell_type": "markdown",
   "metadata": {},
   "source": [
    "## Exercise 4\n",
    "\n",
    "Combine two array as an array of tuple (Try to use `zip`)\n",
    "\n",
    "    input = ['a', 'b', 'c'], [1, 2, 3]\n",
    "    output = [('a', 1), ('b', 2), ('c', 3)\n"
   ]
  },
  {
   "cell_type": "code",
   "execution_count": null,
   "metadata": {},
   "outputs": [],
   "source": [
    "def combine(a, b):\n",
    "    ### your code start\n",
    "    pass\n",
    "    ### your code end"
   ]
  },
  {
   "cell_type": "code",
   "execution_count": null,
   "metadata": {},
   "outputs": [],
   "source": [
    "# test cell, you can write any code here to test your function"
   ]
  },
  {
   "cell_type": "code",
   "execution_count": null,
   "metadata": {},
   "outputs": [],
   "source": [
    "# validation cell, do not modifiy this cell\n",
    "assert combine(['a', 'b', 'c'], [1, 2, 3]) == [('a', 1), ('b', 2), ('c', 3)]"
   ]
  },
  {
   "cell_type": "markdown",
   "metadata": {},
   "source": [
    "## Excercise 5\n",
    "\n",
    "implement `range` function. Return element by elment instead of `List` (Use `generator`)\n",
    "\n",
    "Do not use `list` and `range`.\n",
    "\n",
    "    def range(start, end):\n",
    "        ...\n",
    "        \n",
    "    for i in range(1, 5):\n",
    "        print(i,)\n",
    "    \n",
    "    >>> 1,2,3,4,5\n",
    "    "
   ]
  },
  {
   "cell_type": "code",
   "execution_count": null,
   "metadata": {},
   "outputs": [],
   "source": [
    "def my_range(start, end):\n",
    "    ### your code start\n",
    "    pass\n",
    "    ### your code end"
   ]
  },
  {
   "cell_type": "code",
   "execution_count": null,
   "metadata": {},
   "outputs": [],
   "source": [
    "# test cell, you can write any code here to test your function"
   ]
  },
  {
   "cell_type": "code",
   "execution_count": null,
   "metadata": {},
   "outputs": [],
   "source": [
    "# validation cell, do not modifiy this cell\n",
    "assert my_range(10, 20).__next__() == 10\n",
    "assert [i for i in my_range(2, 5)] == [2, 3, 4]"
   ]
  },
  {
   "cell_type": "markdown",
   "metadata": {},
   "source": [
    "## Exercise 6\n",
    "\n",
    "Add each element in two lists by `map`.\n",
    "\n",
    "    input_1 = [1, 2, 3]\n",
    "    input_2 = [1, 2, 4]\n",
    "    \n",
    "    merge(input_1, input_2) = [2, 4, 7]\n"
   ]
  },
  {
   "cell_type": "code",
   "execution_count": null,
   "metadata": {},
   "outputs": [],
   "source": [
    "def merge(a, b):\n",
    "    ### your code start\n",
    "    pass\n",
    "    ### your code end"
   ]
  },
  {
   "cell_type": "code",
   "execution_count": null,
   "metadata": {},
   "outputs": [],
   "source": [
    "# test cell, you can write any code here to test your function"
   ]
  },
  {
   "cell_type": "code",
   "execution_count": null,
   "metadata": {},
   "outputs": [],
   "source": [
    "# validation cell, do not modifiy this cell\n",
    "assert merge([1, 2, 3], [1, 2, 4]) == [2, 4, 7]\n",
    "assert merge([], []) == []"
   ]
  },
  {
   "cell_type": "markdown",
   "metadata": {},
   "source": [
    "## Exercise 7\n",
    "\n",
    "Add index to each elements in list. (Use `enumerate`)\n",
    "\n",
    "    input = [1, 2, 6, 4]\n",
    "    output = [1, 3, 8, 7]\n",
    "    \n",
    "That is,\n",
    "\n",
    "    output[0] = input[0] + 0\n",
    "    output[1] = input[1] + 1\n",
    "    ..."
   ]
  },
  {
   "cell_type": "code",
   "execution_count": null,
   "metadata": {},
   "outputs": [],
   "source": [
    "def add_index(my_list):\n",
    "    ### your code start\n",
    "    pass\n",
    "    ### your code end"
   ]
  },
  {
   "cell_type": "code",
   "execution_count": null,
   "metadata": {},
   "outputs": [],
   "source": [
    "# test cell, you can write any code here to test your function"
   ]
  },
  {
   "cell_type": "code",
   "execution_count": null,
   "metadata": {},
   "outputs": [],
   "source": [
    "# validation cell, do not modifiy this cell\n",
    "assert add_index([1, 2, 3]) == [1, 3, 5]\n",
    "assert add_index([]) == []"
   ]
  }
 ],
 "metadata": {
  "kernelspec": {
   "display_name": "Python 3",
   "language": "python",
   "name": "python3"
  },
  "language_info": {
   "codemirror_mode": {
    "name": "ipython",
    "version": 3
   },
   "file_extension": ".py",
   "mimetype": "text/x-python",
   "name": "python",
   "nbconvert_exporter": "python",
   "pygments_lexer": "ipython3",
   "version": "3.7.0"
  }
 },
 "nbformat": 4,
 "nbformat_minor": 2
}
