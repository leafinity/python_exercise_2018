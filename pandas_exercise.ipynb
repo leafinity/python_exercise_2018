{
 "cells": [
  {
   "cell_type": "code",
   "execution_count": null,
   "metadata": {},
   "outputs": [],
   "source": [
    "import pandas as pd\n",
    "import numpy as np"
   ]
  },
  {
   "cell_type": "markdown",
   "metadata": {},
   "source": [
    "## Exercise 1\n",
    "\n",
    "Read csv file to Pandas DataFrame; the file contain a header and the first column is index.\n",
    "\n",
    "    df = read_from_csv(\"path/to/the/file\")"
   ]
  },
  {
   "cell_type": "code",
   "execution_count": null,
   "metadata": {},
   "outputs": [],
   "source": [
    "def read_from_csv(csv_path):\n",
    "    ### your code start\n",
    "    pass\n",
    "    ### your code end"
   ]
  },
  {
   "cell_type": "code",
   "execution_count": null,
   "metadata": {},
   "outputs": [],
   "source": [
    "# validation cell, do not modifiy this cell\n",
    "df = read_from_csv('data/airline.csv')\n",
    "ans = pd.read_pickle('answer/pdex1.pkl')\n",
    "\n",
    "assert df.equals(ans)"
   ]
  },
  {
   "cell_type": "markdown",
   "metadata": {},
   "source": [
    "## Exercise 2\n",
    "\n",
    "Given col_from, col_to, row_from, row_to, please return the sub dataframe.\n",
    "(index of datafram may not start with 0)\n",
    "\n",
    "sample datafram:\n",
    "\n",
    "        c1 c2 c3 ... c19 c20\n",
    "    r1   1  2  3      19  20\n",
    "    r2   2  3  4      20  21\n",
    "    r3   3  4  5      21  22\n",
    "    ...\n",
    "    r19 19 20 21      37  38\n",
    "    r20 20 21 22      38  39\n",
    "    \n",
    "sample result:\n",
    "    \n",
    "    new_df = subdatafram(1, 2, 0, 2)\n",
    "    \n",
    "         c1 c2 c3\n",
    "    r1    2  3  4\n",
    "    r2    3  4  5"
   ]
  },
  {
   "cell_type": "code",
   "execution_count": null,
   "metadata": {},
   "outputs": [],
   "source": [
    "def subdataframe(df, row_from, row_to, col_from, col_to, ):\n",
    "    ### your code start\n",
    "    pass\n",
    "    ### your code end"
   ]
  },
  {
   "cell_type": "code",
   "execution_count": null,
   "metadata": {},
   "outputs": [],
   "source": [
    "# validation cell, do not modifiy this cell\n",
    "df = pd.read_pickle('answer/pdex1.pkl')\n",
    "df_2 = subdataframe(df, 50, 100, 0, 2)\n",
    "\n",
    "assert subdataframe(df, 50, 100, 0, 2).equals(pd.read_pickle('answer/pdex2.pkl'))\n",
    "subdataframe(df, 50, 53, 0, 2)"
   ]
  },
  {
   "cell_type": "markdown",
   "metadata": {},
   "source": [
    "## Excercise 3\n",
    "\n",
    "Remove duplicated rows \n"
   ]
  },
  {
   "cell_type": "code",
   "execution_count": null,
   "metadata": {},
   "outputs": [],
   "source": [
    "def remove_dup(df):\n",
    "    ### your code start\n",
    "    pass\n",
    "    ### your code end"
   ]
  },
  {
   "cell_type": "code",
   "execution_count": null,
   "metadata": {},
   "outputs": [],
   "source": [
    "# validation cell, do not modifiy this cell\n",
    "df = pd.read_pickle('answer/pdex1.pkl')\n",
    "ans = pd.read_pickle('answer/pdex3.pkl')\n",
    "\n",
    "assert remove_dup(df).equals(ans)\n",
    "remove_dup(df).tail()"
   ]
  },
  {
   "cell_type": "markdown",
   "metadata": {},
   "source": [
    "## Exercise 4\n",
    "\n",
    "Remove NaN in the dataframe"
   ]
  },
  {
   "cell_type": "code",
   "execution_count": null,
   "metadata": {},
   "outputs": [],
   "source": [
    "def remove_na(df):\n",
    "    ### your code start\n",
    "    pass\n",
    "    ### your code end"
   ]
  },
  {
   "cell_type": "code",
   "execution_count": null,
   "metadata": {},
   "outputs": [],
   "source": [
    "# validation cell, do not modifiy this cell\n",
    "df = pd.read_pickle('answer/pdex3.pkl')\n",
    "ans = pd.read_pickle('answer/pdex4.pkl')\n",
    "\n",
    "assert remove_na(df).equals(ans)\n",
    "remove_na(df).head()"
   ]
  },
  {
   "cell_type": "markdown",
   "metadata": {},
   "source": [
    "## Exercise 5\n",
    "\n",
    "Add a new column flight_length as `arrive_time - fly_time` minute.\n",
    "\n",
    "You have to parse columns to datetime. You don't have to return dataframe, just modify it in the function.\n"
   ]
  },
  {
   "cell_type": "code",
   "execution_count": null,
   "metadata": {},
   "outputs": [],
   "source": [
    "def new_column(df):\n",
    "    ### your code start\n",
    "    pass\n",
    "    ### your code end"
   ]
  },
  {
   "cell_type": "code",
   "execution_count": null,
   "metadata": {},
   "outputs": [],
   "source": [
    "# validation cell, do not modifiy this cell\n",
    "df = pd.read_pickle('answer/pdex4.pkl')\n",
    "ans = pd.read_pickle('answer/pdex5.pkl')\n",
    "\n",
    "new_column(df)\n",
    "assert df.equals(ans)\n",
    "df.head()"
   ]
  },
  {
   "cell_type": "markdown",
   "metadata": {},
   "source": [
    "## Excercise 6\n",
    "\n",
    "Return a new dataframe which only remains rows whose flight_length isn't smaller than 0\n",
    "(you can assume already run `new_column()`)\n"
   ]
  },
  {
   "cell_type": "code",
   "execution_count": null,
   "metadata": {},
   "outputs": [],
   "source": [
    "def new_frame(df):\n",
    "    ### your code start\n",
    "    pass\n",
    "    ### your code end"
   ]
  },
  {
   "cell_type": "code",
   "execution_count": null,
   "metadata": {},
   "outputs": [],
   "source": [
    "# validation cell, do not modifiy this cell\n",
    "df = pd.read_pickle('answer/pdex5.pkl')\n",
    "ans = pd.read_pickle('answer/pdex6.pkl')\n",
    "\n",
    "assert new_frame(df).equals(ans)\n",
    "new_frame(df).head()"
   ]
  },
  {
   "cell_type": "markdown",
   "metadata": {},
   "source": [
    "## Exercise 7\n",
    " \n",
    "Duplicate a new DataFrame, Return a new dataframe which is as same as origin one.\n"
   ]
  },
  {
   "cell_type": "code",
   "execution_count": null,
   "metadata": {},
   "outputs": [],
   "source": [
    "def copy_frame(df):\n",
    "    ### your code start\n",
    "    return df.copy()\n",
    "    ### your code end"
   ]
  },
  {
   "cell_type": "code",
   "execution_count": null,
   "metadata": {},
   "outputs": [],
   "source": [
    "# validation cell, do not modifiy this cell\n",
    "df = pd.read_pickle('answer/pdex5.pkl')\n",
    "ans = pd.read_pickle('answer/pdex7.pkl')\n",
    "\n",
    "df_2 = copy_frame(df)\n",
    "df_2.iat[0, 1] = \"WANDERLAND\"\n",
    "\n",
    "assert df_2.equals(ans)\n",
    "assert not df.equals(ans)\n",
    "\n",
    "df.head()"
   ]
  },
  {
   "cell_type": "markdown",
   "metadata": {},
   "source": [
    "## Excerise 8\n",
    "\n",
    "Replace 89th(index=199) line cell's src_airport to `SFO`.\n",
    "\n",
    "You don't have to return dataframe, just modify it in the function."
   ]
  },
  {
   "cell_type": "code",
   "execution_count": null,
   "metadata": {},
   "outputs": [],
   "source": [
    "def revise(df):\n",
    "    ### your code start\n",
    "    pass\n",
    "    ### your code end"
   ]
  },
  {
   "cell_type": "code",
   "execution_count": null,
   "metadata": {},
   "outputs": [],
   "source": [
    "# validation cell, do not modifiy this cell\n",
    "df = pd.read_pickle('answer/pdex5.pkl')\n",
    "ans = pd.read_pickle('answer/pdex8.pkl')\n",
    "\n",
    "revise(df)\n",
    "assert df.equals(ans)\n",
    "df.tail()"
   ]
  },
  {
   "cell_type": "markdown",
   "metadata": {},
   "source": [
    "## Exercise 9\n",
    "computer total flight_length group by `src_airport`( return dataframe would only have 1 column `flight_length`.)"
   ]
  },
  {
   "cell_type": "code",
   "execution_count": null,
   "metadata": {},
   "outputs": [],
   "source": [
    "def sum_up_by_src(df):\n",
    "    ### your code start\n",
    "    pass\n",
    "    ### your code end"
   ]
  },
  {
   "cell_type": "code",
   "execution_count": null,
   "metadata": {},
   "outputs": [],
   "source": [
    "# validation cell, do not modifiy this cell\n",
    "df = pd.read_pickle('answer/pdex8.pkl')\n",
    "ans = pd.read_pickle('answer/pdex9.pkl')\n",
    "\n",
    "assert sum_up_by_src(df).equals(ans)\n",
    "sum_up_by_src(df).head()"
   ]
  },
  {
   "cell_type": "markdown",
   "metadata": {},
   "source": [
    "## Exercise 10\n",
    "\n",
    "Convert DataFrame to Numpy array"
   ]
  },
  {
   "cell_type": "code",
   "execution_count": null,
   "metadata": {},
   "outputs": [],
   "source": [
    "def to_numpy(df):\n",
    "    ### your code start\n",
    "    pass\n",
    "    ### your code end"
   ]
  },
  {
   "cell_type": "code",
   "execution_count": null,
   "metadata": {},
   "outputs": [],
   "source": [
    "# validation cell, do not modifiy this cell\n",
    "df = pd.read_pickle('answer/pdex8.pkl')\n",
    "ans = np.load('answer/pdex10.npy')\n",
    "\n",
    "np_data = to_numpy(df)\n",
    "assert type(np_data) == type(ans)\n",
    "assert (np_data == ans).all()\n",
    "\n",
    "print(type(np_data))"
   ]
  },
  {
   "cell_type": "markdown",
   "metadata": {},
   "source": [
    "## Exercise 11\n",
    "\n",
    "save the dataframe to csv file without index"
   ]
  },
  {
   "cell_type": "code",
   "execution_count": null,
   "metadata": {},
   "outputs": [],
   "source": [
    "def save_frame(df, filename):\n",
    "    ### your code start\n",
    "    pass\n",
    "    ### your code end"
   ]
  },
  {
   "cell_type": "code",
   "execution_count": null,
   "metadata": {},
   "outputs": [],
   "source": [
    "# validation cell, do not modifiy this cell\n",
    "import filecmp\n",
    "df = pd.read_pickle('answer/pdex8.pkl')\n",
    "\n",
    "filename = 'airline_modified.csv'\n",
    "save_frame(df, filename)\n",
    "\n",
    "assert filecmp.cmp(filename, 'answer/pdex11.csv')"
   ]
  },
  {
   "cell_type": "code",
   "execution_count": null,
   "metadata": {},
   "outputs": [],
   "source": [
    "pd.read_csv('airline_modified.csv').head()"
   ]
  }
 ],
 "metadata": {
  "kernelspec": {
   "display_name": "Python 3",
   "language": "python",
   "name": "python3"
  },
  "language_info": {
   "codemirror_mode": {
    "name": "ipython",
    "version": 3
   },
   "file_extension": ".py",
   "mimetype": "text/x-python",
   "name": "python",
   "nbconvert_exporter": "python",
   "pygments_lexer": "ipython3",
   "version": "3.7.0"
  }
 },
 "nbformat": 4,
 "nbformat_minor": 2
}
