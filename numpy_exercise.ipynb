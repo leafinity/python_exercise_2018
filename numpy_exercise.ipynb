{
 "cells": [
  {
   "cell_type": "code",
   "execution_count": null,
   "metadata": {},
   "outputs": [],
   "source": [
    "import os\n",
    "import json\n",
    "import numpy as np\n",
    "from PIL import Image\n",
    "import cv2\n",
    "from matplotlib.pyplot import imshow\n",
    "from functools import reduce\n",
    "\n",
    "# for ex.1 顯示 cv2 讀出來的檔案\n",
    "def show_image(image, gray=False):\n",
    "    if gray:\n",
    "        imshow(np.uint8(image), cmap='gray')\n",
    "    else:\n",
    "        imshow(np.uint8(image))"
   ]
  },
  {
   "cell_type": "markdown",
   "metadata": {},
   "source": [
    "## Exercise 1\n",
    "\n",
    "Read an image as a numpy array. (You can use build-in function (e.g. open) or use third party library (e.g. `OpenCV` or `Pillow`)\n",
    "\n",
    "If you use cv2, please make sure you image is `RGB`, not `GBR`\n",
    "\n",
    "    image = read_image(\"path/to/the/image\")"
   ]
  },
  {
   "cell_type": "code",
   "execution_count": null,
   "metadata": {},
   "outputs": [],
   "source": [
    "def read_image(filename):\n",
    "    ### your code start\n",
    "    \n",
    "    ''' read image by pillow\n",
    "        要注意它回傳的是 Image object 需要轉成 np.array\n",
    "    '''\n",
    "    return np.array(Image.open(filename))\n",
    "    ### your code end\n",
    "    \n",
    "def read_image_by_cv2(filename):\n",
    "    image = cv2.imread(filename)\n",
    "    return cv2.cvtColor(image, cv2.COLOR_BGR2RGB)"
   ]
  },
  {
   "cell_type": "code",
   "execution_count": null,
   "metadata": {},
   "outputs": [],
   "source": [
    "'''cv2 直接讀 channel 順序是 GBR，因為是偏黃的圖片會變成偏藍 '''\n",
    "show_image(cv2.imread('data/dog/01.jpg'))"
   ]
  },
  {
   "cell_type": "code",
   "execution_count": null,
   "metadata": {},
   "outputs": [],
   "source": [
    "''' convert 過的圖片就會正常了 '''\n",
    "show_image(read_image_by_cv2('data/dog/01.jpg'))"
   ]
  },
  {
   "cell_type": "code",
   "execution_count": null,
   "metadata": {},
   "outputs": [],
   "source": [
    "# validation cell, do not modifiy this cell\n",
    "image = read_image('data/dog/01.jpg')\n",
    "ans = np.load('answer/npex1_1.npy')\n",
    "\n",
    "assert type(image) == type(ans)\n",
    "assert image.shape == ans.shape\n",
    "assert (image == ans).all()"
   ]
  },
  {
   "cell_type": "markdown",
   "metadata": {},
   "source": [
    "## Exercise 1.5\n",
    "\n",
    "Show image(narray) on iPython. Add a Flag to decide to show gray-scale image or not.\n",
    "\n",
    "(This exercise would not be counted, but it is helpful)\n"
   ]
  },
  {
   "cell_type": "code",
   "execution_count": null,
   "metadata": {},
   "outputs": [],
   "source": [
    "def show_image(image, gray=False):\n",
    "    ### your code start\n",
    "    ''' np.uint8 是為了避免 image 裡面是 float\n",
    "        imshow 只接受 0~1 的 float 或 0 ~ 255 的整數\n",
    "        cmap 的參數 只有 image 是 h * w 的時候會用\n",
    "    '''\n",
    "    if gray:\n",
    "        imshow(np.uint8(image), cmap='gray')\n",
    "    else:\n",
    "        imshow(np.uint8(image))\n",
    "    ### your code end"
   ]
  },
  {
   "cell_type": "code",
   "execution_count": null,
   "metadata": {},
   "outputs": [],
   "source": [
    "# 正常的 rgb圖片\n",
    "show_image(image)"
   ]
  },
  {
   "cell_type": "markdown",
   "metadata": {},
   "source": [
    "### 當 image 是 w x h 的時候 會使用 colormap (cmap)\n",
    "\n",
    "如果不告訴 function cmap 是 gray，會使用 default 的 colormap viridis \n",
    "[see viridis](https://cran.r-project.org/web/packages/viridis/vignettes/intro-to-viridis.html)\n",
    "\n",
    "可以執行下面的程式看看不一樣的 `cmap`\n",
    "\n",
    "    imshow(np.load('answer/npex3.npy'), cmap='hot')"
   ]
  },
  {
   "cell_type": "code",
   "execution_count": null,
   "metadata": {},
   "outputs": [],
   "source": [
    "show_image(np.load('answer/npex3.npy'))"
   ]
  },
  {
   "cell_type": "code",
   "execution_count": null,
   "metadata": {},
   "outputs": [],
   "source": [
    "# 所以黑白照片需要跟他說 cmap='gray'\n",
    "show_image(np.load('answer/npex3.npy'), True)"
   ]
  },
  {
   "cell_type": "code",
   "execution_count": null,
   "metadata": {},
   "outputs": [],
   "source": [
    "# 補充: rgb圖片 就算強制 cmap='gray' 一樣會是彩色的\n",
    "show_image(image, True)"
   ]
  },
  {
   "cell_type": "markdown",
   "metadata": {},
   "source": [
    "## Exercise 2\n",
    "\n",
    "Read images in folders, and return list of images path. (You can use read_image in ex.1 as a implemented function)\n",
    "\n",
    "folder structure: data/cat/01.jpg, ..., data/dog/01.jpg, ...\n",
    "\n",
    "    images = read_images(\"path/to/data/folder\")\n",
    "    \n",
    "    # sample output\n",
    "    ['data/cat/01.jpg', ..., 'data/dog/01.jpg', ...]\n",
    "    \n",
    "Hint: use `os.walk`"
   ]
  },
  {
   "cell_type": "code",
   "execution_count": null,
   "metadata": {},
   "outputs": [],
   "source": [
    "def read_image_folder(folder_path):\n",
    "    ### your code start \n",
    "    images = []\n",
    "    for (dirpath, dirnames, filenames) in os.walk(folder_path):\n",
    "        if '.ipynb_checkpoints' in dirpath:\n",
    "            continue\n",
    "        for filename in filenames:\n",
    "            if filename.endswith('.jpg'):\n",
    "                '''只接受結尾是 '.jpg' 的檔案'''\n",
    "                images.append(os.sep.join([dirpath, filename]))\n",
    "    return images\n",
    "    ### your code end"
   ]
  },
  {
   "cell_type": "code",
   "execution_count": null,
   "metadata": {},
   "outputs": [],
   "source": [
    "# validation cell, do not modifiy this cell\n",
    "with open('answer/npex2.json') as f:\n",
    "    ans = json.loads(f.read())\n",
    "\n",
    "assert set(read_image_folder('data')) == set(ans)"
   ]
  },
  {
   "cell_type": "markdown",
   "metadata": {},
   "source": [
    "## Exercise 3\n",
    "\n",
    "Converst image to gray scale image. Use mean of RGB as gray scale value. (output should be w x h)\n",
    "\n",
    "For 2 x 2 image:\n",
    "\n",
    "    from = [[[r, g, b], [r, g, b]],\n",
    "            [[r, g, b], [r, g, b]]]\n",
    "    to   = [[gray, gray],\n",
    "            [gray, gray]]"
   ]
  },
  {
   "cell_type": "code",
   "execution_count": null,
   "metadata": {},
   "outputs": [],
   "source": [
    "def to_gray_scale(img): \n",
    "    ### your code start\n",
    "    return np.mean(img, axis=-1)\n",
    "    ### your code end\n",
    "    \n",
    "''' 這個function 也可以寫成 \n",
    "    \n",
    "    def to_gray_scale(img):\n",
    "        return np.mean(img, axis=2)\n",
    "        \n",
    "    將 img 被 3(axis=2) 個 [] 刮起來的地方取平均\n",
    "\n",
    "      這裡        這裡\n",
    "       |          |\n",
    "       ˇ          ˇ\n",
    "    [[[r, g, b], [r, g, b]]]\n",
    "    \n",
    "    =  [[mean([r, g, b]), mean([r, g, b])]]\n",
    "'''"
   ]
  },
  {
   "cell_type": "code",
   "execution_count": null,
   "metadata": {},
   "outputs": [],
   "source": [
    "# test cell, you can write any code to test your function\n",
    "image = read_image('data/dog/01.jpg')\n",
    "gray_img = to_gray_scale(image)\n",
    "show_image(gray_img, gray=True)"
   ]
  },
  {
   "cell_type": "code",
   "execution_count": null,
   "metadata": {},
   "outputs": [],
   "source": [
    "# validation cell, do not modifiy this cell\n",
    "image = np.load('answer/npex1_1.npy')\n",
    "ans = np.load('answer/npex3.npy')\n",
    "\n",
    "gray_img = to_gray_scale(image)\n",
    "    \n",
    "assert type(gray_img) == type(ans)\n",
    "assert gray_img.shape == ans.shape\n",
    "assert (gray_img == ans).all()"
   ]
  },
  {
   "cell_type": "markdown",
   "metadata": {},
   "source": [
    "## Exercise 4\n",
    "\n",
    "Divide values by the maximum value in the array.\n",
    "\n",
    "For 2 x 2 image:\n",
    "\n",
    "    [[255, 64], [128, 255]] -> [[1, 0.25], [0.5, 1]]"
   ]
  },
  {
   "cell_type": "code",
   "execution_count": null,
   "metadata": {},
   "outputs": [],
   "source": [
    "def normalize_image(img):\n",
    "    ### your code start\n",
    "    return img / img.max()\n",
    "    ### your code end\n",
    "    \n",
    "''' max 沒有指定 axis 預設為0, 把所有 1 個 [] 包起來的地方的取 max\n",
    "    -> max([[[r, g, b], [r, g, b]]])\n",
    "    \n",
    "    img.max(axis=1)\n",
    "    -> [max([[r, g, b], [r, g, b]])]\n",
    "'''\n",
    "np.load('answer/npex3.npy').max()"
   ]
  },
  {
   "cell_type": "code",
   "execution_count": null,
   "metadata": {},
   "outputs": [],
   "source": [
    "# validation cell, do not modifiy this cell\n",
    "gray_img = np.load('answer/npex3.npy')\n",
    "ans = np.load('answer/npex4.npy')\n",
    "\n",
    "normalized_img = normalize_image(gray_img)\n",
    "\n",
    "assert (normalized_img == ans).all()\n",
    "imshow(normalized_img, cmap='gray')"
   ]
  },
  {
   "cell_type": "markdown",
   "metadata": {},
   "source": [
    "## Exercise 5\n",
    "\n",
    "Convert image to 1-dimension array (Try to use `reshape`)\n",
    "\n",
    "For 2 x 2 image:\n",
    "\n",
    "    [[255, 255], [255, 255]] -> [255, 255, 255, 255]"
   ]
  },
  {
   "cell_type": "code",
   "execution_count": null,
   "metadata": {},
   "outputs": [],
   "source": [
    "def flatten(img):\n",
    "    ### your code start\n",
    "    return img.reshape(-1)\n",
    "    ### your code end\n",
    "    \n",
    "''' img.reshape(-1) 等於 img.reshape(img.size) 的 fancy 的寫法\n",
    "    用 img.reshape(img.size) 就可以了\n",
    "'''"
   ]
  },
  {
   "cell_type": "code",
   "execution_count": null,
   "metadata": {},
   "outputs": [],
   "source": [
    "# validation cell, do not modifiy this cell\n",
    "image = np.load('answer/npex1_1.npy')\n",
    "ans = np.load('answer/npex5.npy')\n",
    "\n",
    "assert flatten(image).shape == ans.shape\n",
    "assert (flatten(image) == ans).all()"
   ]
  },
  {
   "cell_type": "markdown",
   "metadata": {},
   "source": [
    "## Exercise 5.5\n",
    "\n",
    "Convert image to 1-dimension array (You can use any method)\n",
    "\n",
    "For 2 x 2 image:\n",
    "\n",
    "    [[255, 255], [255, 255]] -> [255, 255, 255, 255]"
   ]
  },
  {
   "cell_type": "code",
   "execution_count": null,
   "metadata": {},
   "outputs": [],
   "source": [
    "def flatten2(img):\n",
    "    ### your code start\n",
    "    return img.flatten()\n",
    "    ### your code end"
   ]
  },
  {
   "cell_type": "code",
   "execution_count": null,
   "metadata": {},
   "outputs": [],
   "source": [
    "# validation cell, do not modifiy this cell\n",
    "image = np.load('answer/npex1_1.npy')\n",
    "ans = np.load('answer/npex5.npy')\n",
    "\n",
    "assert flatten2(image).shape == ans.shape\n",
    "assert (flatten2(image) == ans).all()"
   ]
  },
  {
   "cell_type": "markdown",
   "metadata": {},
   "source": [
    "## Exercise 6\n",
    "\n",
    "Convert gray scale image to rgb image. duplicate gray scale values as RGB values. (h x w -> h x w x 3)\n",
    "\n",
    "\n",
    "For 2 x 2 image:\n",
    "\n",
    "    from = [[g, g],\n",
    "            [g, g]]\n",
    "    to   = [[[g, g, g], [g, g, g]],\n",
    "            [[g, g, g], [g, g, g]]]\n",
    "            \n",
    "\n",
    "### 學會方法 1 就好  (1 > 2 > 3)"
   ]
  },
  {
   "cell_type": "code",
   "execution_count": null,
   "metadata": {},
   "outputs": [],
   "source": [
    "def to_3_channel(gray_image):\n",
    "    ### your code start\n",
    "    \n",
    "    '''先把圖片從 (h, w) 變成 (h, w, 1)'''\n",
    "    img = gray_image.reshape(gray_image.shape + (1, ))\n",
    "    \n",
    "    '''把最後一為 repeat 3 次'''\n",
    "    return np.repeat(img, repeats=3, axis=-1)\n",
    "    \n",
    "    ### your code end"
   ]
  },
  {
   "cell_type": "code",
   "execution_count": null,
   "metadata": {},
   "outputs": [],
   "source": [
    "show_image(to_3_channel(gray_img))"
   ]
  },
  {
   "cell_type": "code",
   "execution_count": null,
   "metadata": {},
   "outputs": [],
   "source": [
    "def to_3_channel_by_stack(gray_image):\n",
    "    ### your code start\n",
    "    \n",
    "    '''把三個 array 疊再一起'''\n",
    "    return np.stack([gray_image] * 3, axis=-1)\n",
    "    \n",
    "    ### your code end\n",
    "\n",
    "show_image(to_3_channel_by_stack(gray_img))"
   ]
  },
  {
   "cell_type": "code",
   "execution_count": null,
   "metadata": {},
   "outputs": [],
   "source": [
    "def to_3_channel_manual(gray_image):\n",
    "    '''看看就好 可以看一看一次assign 最後一個維度'''\n",
    "    img2 = np.zeros(gray_image.shape + (3, ))\n",
    "    img2[:,:,0] = gray_image\n",
    "    img2[:,:,1] = gray_image\n",
    "    img2[:,:,2] = gray_image\n",
    "    return img2\n",
    "\n",
    "show_image(to_3_channel_manual(gray_img))"
   ]
  },
  {
   "cell_type": "code",
   "execution_count": null,
   "metadata": {},
   "outputs": [],
   "source": [
    "# validation cell, do not modifiy this cell\n",
    "image = np.load('answer/npex3.npy')\n",
    "ans = np.load('answer/npex6.npy')\n",
    "\n",
    "assert to_3_channel(image).shape == ans.shape\n",
    "assert (to_3_channel(image) == ans).all()"
   ]
  },
  {
   "cell_type": "markdown",
   "metadata": {},
   "source": [
    "## Exercise 7\n",
    "\n",
    "Concatenate 2 images. (h x w -> h x (w x 2))\n",
    "\n",
    "    input = [[g, g],[g, g]], [[2, 2], [2, 2]]\n",
    "    to   = [[[g, g, 2, 2], [g, g, 2, 2]],\n",
    "          [[g, g, 2, 2], [g, g, 2, 2]]]"
   ]
  },
  {
   "cell_type": "code",
   "execution_count": null,
   "metadata": {},
   "outputs": [],
   "source": [
    "'''左右連在一起'''\n",
    "def concatenate_image(img1, img2):\n",
    "    ### your code start\n",
    "    return np.concatenate([img1, img2], axis=1)\n",
    "    ### your code end"
   ]
  },
  {
   "cell_type": "code",
   "execution_count": null,
   "metadata": {},
   "outputs": [],
   "source": [
    "# validation cell, do not modifiy this cell\n",
    "img1 = np.load('answer/npex1_1.npy')\n",
    "img2 = read_image('data/dog/02.jpg')\n",
    "ans = np.load('answer/npex7.npy')\n",
    "\n",
    "assert (concatenate_image(img1, img2) == ans).all()\n",
    "show_image(concatenate_image(img1, img2))"
   ]
  },
  {
   "cell_type": "code",
   "execution_count": null,
   "metadata": {},
   "outputs": [],
   "source": [
    "'''上下連在一起'''\n",
    "show_image(np.concatenate([img1, img2], axis=0))"
   ]
  },
  {
   "cell_type": "markdown",
   "metadata": {},
   "source": [
    "## Exercise 8\n",
    "\n",
    "get central k * k part of image (gray-scale image: w*h)\n"
   ]
  },
  {
   "cell_type": "code",
   "execution_count": null,
   "metadata": {},
   "outputs": [],
   "source": [
    "def get_center(img, k):\n",
    "    ### your code start\n",
    "    center = [s//2 for s in img.shape]\n",
    "    return img[center[0]-k//2: center[0]+k//2, center[1]-k//2: center[1]+k//2]\n",
    "    ### your code end"
   ]
  },
  {
   "cell_type": "code",
   "execution_count": null,
   "metadata": {},
   "outputs": [],
   "source": [
    "# validation cell, do not modifiy this cell\n",
    "image = np.load('answer/npex3.npy')\n",
    "ans = np.load('answer/npex8.npy')\n",
    "\n",
    "assert (get_center(image, 50) == ans).all()\n",
    "show_image(get_center(image, 50), True)"
   ]
  }
 ],
 "metadata": {
  "kernelspec": {
   "display_name": "Python 3",
   "language": "python",
   "name": "python3"
  },
  "language_info": {
   "codemirror_mode": {
    "name": "ipython",
    "version": 3
   },
   "file_extension": ".py",
   "mimetype": "text/x-python",
   "name": "python",
   "nbconvert_exporter": "python",
   "pygments_lexer": "ipython3",
   "version": "3.7.0"
  }
 },
 "nbformat": 4,
 "nbformat_minor": 2
}
